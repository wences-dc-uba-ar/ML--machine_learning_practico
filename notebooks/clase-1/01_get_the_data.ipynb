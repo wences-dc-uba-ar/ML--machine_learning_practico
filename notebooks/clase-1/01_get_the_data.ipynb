{
 "cells": [
  {
   "cell_type": "markdown",
   "metadata": {
    "colab_type": "text",
    "id": "jFMxfytubohh"
   },
   "source": [
    "# Descargamos y descomprimimos los datos"
   ]
  },
  {
   "cell_type": "code",
   "execution_count": null,
   "metadata": {
    "colab": {
     "base_uri": "https://localhost:8080/",
     "height": 34
    },
    "colab_type": "code",
    "id": "hY9rTjkCb2ER",
    "outputId": "3cff6e18-0a48-4397-d109-7fea8fd6760a"
   },
   "outputs": [],
   "source": [
    "from google.colab import drive\n",
    "\n",
    "drive.mount('/content/gdrive')"
   ]
  },
  {
   "cell_type": "code",
   "execution_count": null,
   "metadata": {
    "colab": {},
    "colab_type": "code",
    "id": "Y39Xdd4QdbcD"
   },
   "outputs": [],
   "source": [
    "DATA_HOME=r\"/content/gdrive/My\\ Drive/ml-practico/data\""
   ]
  },
  {
   "cell_type": "code",
   "execution_count": null,
   "metadata": {
    "colab": {},
    "colab_type": "code",
    "id": "p_SRFcISbohm"
   },
   "outputs": [],
   "source": [
    "!mkdir -p $DATA_HOME # creamos el directorio si no existe"
   ]
  },
  {
   "cell_type": "code",
   "execution_count": null,
   "metadata": {
    "colab": {
     "base_uri": "https://localhost:8080/",
     "height": 51
    },
    "colab_type": "code",
    "id": "vnHabEWbcQ37",
    "outputId": "3e5cdd8c-b8a7-4c9b-d94a-1de6868f0bbb"
   },
   "outputs": [],
   "source": [
    "!ls $DATA_HOME # revisamos que este vacio"
   ]
  },
  {
   "cell_type": "code",
   "execution_count": null,
   "metadata": {
    "colab": {
     "base_uri": "https://localhost:8080/",
     "height": 1000
    },
    "colab_type": "code",
    "id": "Z7SAriHdboiO",
    "outputId": "641f6aa2-508c-40c4-da94-81a4fd8268a9"
   },
   "outputs": [],
   "source": [
    "# descargamos los datos\n",
    "!wget https://machine-learning-practico.s3.amazonaws.com/aclImdb_v1.tar.gz -O $DATA_HOME/aclImdb_v1.tar.gz\n",
    "!wget https://machine-learning-practico.s3.amazonaws.com/movie_gross.csv -O $DATA_HOME/movie_gross.csv\n",
    "!wget https://machine-learning-practico.s3.amazonaws.com/name.basics.tsv.gz -O $DATA_HOME/name.basics.tsv.gz\n",
    "!wget https://machine-learning-practico.s3.amazonaws.com/title.akas.tsv.gz -O $DATA_HOME/title.akas.tsv.gz\n",
    "!wget https://machine-learning-practico.s3.amazonaws.com/title.basics.tsv.gz -O $DATA_HOME/title.basics.tsv.gz\n",
    "!wget https://machine-learning-practico.s3.amazonaws.com/title.crew.tsv.gz -O $DATA_HOME/title.crew.tsv.gz\n",
    "!wget https://machine-learning-practico.s3.amazonaws.com/title.principals.tsv.gz -O $DATA_HOME/title.principals.tsv.gz\n",
    "!wget https://machine-learning-practico.s3.amazonaws.com/title.ratings.tsv.gz -O $DATA_HOME/title.ratings.tsv.gz"
   ]
  },
  {
   "cell_type": "code",
   "execution_count": null,
   "metadata": {
    "colab": {},
    "colab_type": "code",
    "id": "Wl0qAm-hboiQ"
   },
   "outputs": [],
   "source": [
    "# descomprimimos \n",
    "!ls $DATA_HOME/*.gz | grep -v aclImdb_v1.tar.gz | xargs -I% gunzip \"%\""
   ]
  },
  {
   "cell_type": "code",
   "execution_count": null,
   "metadata": {},
   "outputs": [],
   "source": [
    "# Opcional, no lo usamos en la materia, toma mucho tiempo en descomprimir\n",
    "!tar -C $DATA_HOME -vxf $DATA_HOME/aclImdb_v1.tar.gz"
   ]
  }
 ],
 "metadata": {
  "colab": {
   "name": "01-get_the_data.ipynb",
   "provenance": []
  },
  "kernelspec": {
   "display_name": "Python 3",
   "language": "python",
   "name": "python3"
  },
  "language_info": {
   "codemirror_mode": {
    "name": "ipython",
    "version": 3
   },
   "file_extension": ".py",
   "mimetype": "text/x-python",
   "name": "python",
   "nbconvert_exporter": "python",
   "pygments_lexer": "ipython3",
   "version": "3.8.3"
  }
 },
 "nbformat": 4,
 "nbformat_minor": 1
}
